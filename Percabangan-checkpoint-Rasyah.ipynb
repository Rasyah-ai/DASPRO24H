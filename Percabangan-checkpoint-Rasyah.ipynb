{
 "cells": [
  {
   "cell_type": "markdown",
   "id": "5854a90d-e435-44ae-9e31-3bc520e011b1",
   "metadata": {
    "id": "5854a90d-e435-44ae-9e31-3bc520e011b1"
   },
   "source": [
    "Buatlah program yang meminta pengguna memasukkan usia seseorang, lalu tentukan apakah dia <br>\n",
    "anak-anak (0-12 tahun), remaja (13-17 tahun), dewasa (18-59 tahun), atau lansia (60 tahun ke atas)."
   ]
  },
  {
   "cell_type": "code",
   "execution_count": 1,
   "id": "75a2fdcd-1ef1-45e4-9d79-c6a7cb708a18",
   "metadata": {
    "id": "75a2fdcd-1ef1-45e4-9d79-c6a7cb708a18"
   },
   "outputs": [
    {
     "name": "stdin",
     "output_type": "stream",
     "text": [
      "Masukkan Usia Seseorang:  29\n"
     ]
    },
    {
     "name": "stdout",
     "output_type": "stream",
     "text": [
      "Kategori usia: Dewasa\n"
     ]
    }
   ],
   "source": [
    "# add code here ...\n",
    "\n",
    "# Meminta pengguna untuk memasukkan usia\n",
    "usia = int(input(\"Masukkan Usia Seseorang: \"))\n",
    "\n",
    "# Menentukan kategori usia\n",
    "if 0 <= usia <= 12:\n",
    "    kategori = \"Anak-anak\"\n",
    "elif 13 <= usia <= 17:\n",
    "    kategori = \"Remaja\"\n",
    "elif 18 <= usia <= 59:\n",
    "    kategori = \"Dewasa\"\n",
    "elif usia >= 60:\n",
    "    kategori = \"Lansia\"\n",
    "else:\n",
    "    kategori = \"Usia tidak valid\"\n",
    "\n",
    "# Menampilkan hasil\n",
    "print(f\"Kategori usia: {kategori}\")"
   ]
  },
  {
   "cell_type": "markdown",
   "id": "68c95835-e4ad-4bd0-89ca-168200893cf7",
   "metadata": {
    "id": "68c95835-e4ad-4bd0-89ca-168200893cf7"
   },
   "source": [
    "Sebuah taman hiburan memiliki aturan harga tiket berdasarkan usia:\n",
    "<ol>\n",
    "<li>Anak-anak (0-12 tahun): Rp 10.000</li>\n",
    "<li>Remaja (13-17 tahun): Rp 15.000</li>\n",
    "<li>Dewasa (18-59 tahun): Rp 25.000</li>\n",
    "<li>Lansia (60 tahun ke atas): Gratis</li>\n",
    "</ol>\n",
    "Buat program untuk menentukan harga tiket berdasarkan usia yang dimasukkan pengguna dan total harga yang harus dibayar, jika terdapat 3 input seperti berikut ini"
   ]
  },
  {
   "cell_type": "code",
   "execution_count": 3,
   "id": "66ee699f-8355-48e0-939a-dcc73ba4425b",
   "metadata": {
    "id": "66ee699f-8355-48e0-939a-dcc73ba4425b"
   },
   "outputs": [
    {
     "name": "stdin",
     "output_type": "stream",
     "text": [
      "Isikan Umur Tiket 1: 15\n",
      "Isikan Umur Tiket 2:  88\n",
      "Isikan Umur Tiket 3:  41\n"
     ]
    },
    {
     "name": "stdout",
     "output_type": "stream",
     "text": [
      "Harga tiket untuk umur 15 adalah Rp 15000.\n",
      "Harga tiket untuk umur 88 adalah Rp 0.\n",
      "Harga tiket untuk umur 41 adalah Rp 25000.\n",
      "Total harga yang harus dibayar: Rp 40000.\n"
     ]
    }
   ],
   "source": [
    "tiket1 = int(input(\"Isikan Umur Tiket 1:\"))\n",
    "tiket2 = int(input(\"Isikan Umur Tiket 2: \"))\n",
    "tiket3 = int(input(\"Isikan Umur Tiket 3: \"))\n",
    "\n",
    "# add code here ...\n",
    "\n",
    "# Fungsi untuk menentukan harga tiket berdasarkan usia\n",
    "def harga_tiket(usia):\n",
    "    if 0 <= usia <= 12:\n",
    "        return 10000  # Harga untuk anak-anak\n",
    "    elif 13 <= usia <= 17:\n",
    "        return 15000  # Harga untuk remaja\n",
    "    elif 18 <= usia <= 59:\n",
    "        return 25000  # Harga untuk dewasa\n",
    "    elif usia >= 60:\n",
    "        return 0  # Gratis untuk lansia\n",
    "    else:\n",
    "        return None  # Usia tidak valid\n",
    "\n",
    "# Menghitung total harga\n",
    "total_harga = 0\n",
    "\n",
    "# Menghitung harga untuk setiap tiket\n",
    "for tiket in [tiket1, tiket2, tiket3]:\n",
    "    harga = harga_tiket(tiket)\n",
    "    \n",
    "    if harga is not None:\n",
    "        total_harga += harga\n",
    "        print(f\"Harga tiket untuk umur {tiket} adalah Rp {harga}.\")\n",
    "    else:\n",
    "        print(\"Usia tidak valid.\")\n",
    "\n",
    "# Menampilkan total harga yang harus dibayar\n",
    "print(f\"Total harga yang harus dibayar: Rp {total_harga}.\")"
   ]
  },
  {
   "cell_type": "markdown",
   "id": "82eac646-d930-42f5-a253-03f84c32f943",
   "metadata": {
    "id": "82eac646-d930-42f5-a253-03f84c32f943"
   },
   "source": [
    "Sebuah restoran memiliki diskon khusus:\n",
    "Anak-anak (0-12 tahun) diskon 50%\n",
    "Lansia (60 tahun ke atas) diskon 30%\n",
    "Selain itu, tidak ada diskon\n",
    "Buat program untuk menghitung harga yang harus dibayar setelah diskon diberikan."
   ]
  },
  {
   "cell_type": "code",
   "execution_count": 7,
   "id": "feb31fca-fce6-4e5f-a25f-8752e7a0033b",
   "metadata": {
    "id": "feb31fca-fce6-4e5f-a25f-8752e7a0033b"
   },
   "outputs": [
    {
     "name": "stdin",
     "output_type": "stream",
     "text": [
      "Masukkan usia pelanggan:  8\n",
      "Masukkan harga total: Rp  280000\n"
     ]
    },
    {
     "name": "stdout",
     "output_type": "stream",
     "text": [
      "Harga yang harus dibayar setelah diskon: Rp 140000.00\n"
     ]
    }
   ],
   "source": [
    "# add code here ...\n",
    "\n",
    "# Fungsi untuk menghitung harga setelah diskon berdasarkan usia\n",
    "def harga_setelah_diskon(usia, harga_total):\n",
    "    if 0 <= usia <= 12:\n",
    "        diskon = 0.50  # Diskon 50% untuk anak-anak\n",
    "    elif usia >= 60:\n",
    "        diskon = 0.30  # Diskon 30% untuk lansia\n",
    "    else:\n",
    "        diskon = 0.00  # Tidak ada diskon untuk usia lainnya\n",
    "    \n",
    "    # Menghitung harga setelah diskon\n",
    "    harga_setelah_diskon = harga_total * (1 - diskon)\n",
    "    return harga_setelah_diskon\n",
    "\n",
    "# Meminta pengguna untuk memasukkan usia dan harga total\n",
    "usia = int(input(\"Masukkan usia pelanggan: \"))\n",
    "harga_total = float(input(\"Masukkan harga total: Rp \"))\n",
    "\n",
    "# Menghitung harga setelah diskon\n",
    "harga_final = harga_setelah_diskon(usia, harga_total)\n",
    "\n",
    "# Menampilkan hasil\n",
    "print(f\"Harga yang harus dibayar setelah diskon: Rp {harga_final:.2f}\")"
   ]
  },
  {
   "cell_type": "markdown",
   "id": "aee8bab3-9bf1-4732-97e1-7abb32ce7184",
   "metadata": {
    "id": "aee8bab3-9bf1-4732-97e1-7abb32ce7184"
   },
   "source": [
    "Program beasiswa:\n",
    "<ol>\n",
    "<li>Jika nilai rapor ≥ 90 dan penghasilan orang tua < Rp 5.000.000 → Beasiswa Penuh</li>\n",
    "<li>Jika nilai rapor ≥ 85 dan penghasilan orang tua < Rp 8.000.000 → Beasiswa 50%</li>\n",
    "<li>Jika tidak memenuhi syarat di atas → Tidak mendapatkan beasiswa</li>"
   ]
  },
  {
   "cell_type": "code",
   "execution_count": 9,
   "id": "55a9ec4f-531b-4326-bca3-e0d19b4be47d",
   "metadata": {
    "id": "55a9ec4f-531b-4326-bca3-e0d19b4be47d"
   },
   "outputs": [
    {
     "name": "stdin",
     "output_type": "stream",
     "text": [
      "Masukkan nilai rapor:  93\n",
      "Masukkan penghasilan orang tua: Rp  5500000\n"
     ]
    },
    {
     "name": "stdout",
     "output_type": "stream",
     "text": [
      "Hasil: Beasiswa 50%\n"
     ]
    }
   ],
   "source": [
    "# add code here ...\n",
    "\n",
    "# Fungsi untuk menentukan jenis beasiswa\n",
    "def jenis_beasiswa(nilai_rapor, penghasilan_orang_tua):\n",
    "    if nilai_rapor >= 90 and penghasilan_orang_tua < 5000000:\n",
    "        return \"Beasiswa Penuh\"\n",
    "    elif nilai_rapor >= 85 and penghasilan_orang_tua < 8000000:\n",
    "        return \"Beasiswa 50%\"\n",
    "    else:\n",
    "        return \"Tidak mendapatkan beasiswa\"\n",
    "\n",
    "# Meminta pengguna untuk memasukkan nilai rapor dan penghasilan orang tua\n",
    "nilai_rapor = float(input(\"Masukkan nilai rapor: \"))\n",
    "penghasilan_orang_tua = float(input(\"Masukkan penghasilan orang tua: Rp \"))\n",
    "\n",
    "# Menentukan jenis beasiswa\n",
    "hasil_beasiswa = jenis_beasiswa(nilai_rapor, penghasilan_orang_tua)\n",
    "\n",
    "# Menampilkan hasil\n",
    "print(f\"Hasil: {hasil_beasiswa}\")"
   ]
  },
  {
   "cell_type": "markdown",
   "id": "57ea9062-e1af-4650-8eab-a47a01a9d04f",
   "metadata": {
    "id": "57ea9062-e1af-4650-8eab-a47a01a9d04f"
   },
   "source": [
    "Suatu aplikasi streaming memiliki batasan usia:\n",
    "<ol>\n",
    "<li>Film Semua Umur: Bisa ditonton oleh siapa saja</li>\n",
    "<li>Film Remaja: Hanya untuk usia ≥ 13 tahun</li>\n",
    "<li>Film Dewasa: Hanya untuk usia ≥ 18 tahun</li>\n",
    "</ol>\n",
    "Buat program yang meminta input usia dan kategori film, lalu tentukan apakah seseorang boleh menonton film tersebut atau tidak."
   ]
  },
  {
   "cell_type": "code",
   "execution_count": 11,
   "id": "2c00f464-3390-4c94-9ec2-4b63c55b871b",
   "metadata": {
    "id": "2c00f464-3390-4c94-9ec2-4b63c55b871b"
   },
   "outputs": [
    {
     "name": "stdin",
     "output_type": "stream",
     "text": [
      "Masukkan usia Anda:  21\n",
      "Masukkan kategori film (Semua Umur, Remaja, Dewasa):  Remaja\n"
     ]
    },
    {
     "name": "stdout",
     "output_type": "stream",
     "text": [
      "Anda boleh menonton film ini.\n"
     ]
    }
   ],
   "source": [
    "# add code here ...\n",
    "\n",
    "# Fungsi untuk menentukan apakah seseorang boleh menonton film\n",
    "def boleh_nonton(usia, kategori_film):\n",
    "    if kategori_film == \"Semua Umur\":\n",
    "        return True\n",
    "    elif kategori_film == \"Remaja\":\n",
    "        return usia >= 13\n",
    "    elif kategori_film == \"Dewasa\":\n",
    "        return usia >= 18\n",
    "    else:\n",
    "        return False\n",
    "\n",
    "# Meminta pengguna untuk memasukkan usia dan kategori film\n",
    "usia = int(input(\"Masukkan usia Anda: \"))\n",
    "kategori_film = input(\"Masukkan kategori film (Semua Umur, Remaja, Dewasa): \")\n",
    "\n",
    "# Menentukan apakah boleh menonton film\n",
    "if boleh_nonton(usia, kategori_film):\n",
    "    print(\"Anda boleh menonton film ini.\")\n",
    "else:\n",
    "    print(\"Anda tidak boleh menonton film ini.\")"
   ]
  },
  {
   "cell_type": "markdown",
   "id": "7b87c04c-85f0-4dc1-a14a-f67d8b2c4e6a",
   "metadata": {
    "id": "7b87c04c-85f0-4dc1-a14a-f67d8b2c4e6a"
   },
   "source": [
    "Sebuah toko memberikan diskon berdasarkan jumlah pembelian:\n",
    "<ol>\n",
    "<li>Jika total belanja ≥ Rp 500.000 → Diskon 20%</li>\n",
    "<li>Jika total belanja ≥ Rp 250.000 → Diskon 10%</li>\n",
    "<li>Jika total belanja < Rp 250.000 → Tidak ada diskon</li>\n",
    "</ol>\n",
    "Hitung harga akhir setelah diskon."
   ]
  },
  {
   "cell_type": "code",
   "execution_count": 13,
   "id": "966923a0-c87b-4559-8fc1-3090d448ad4a",
   "metadata": {
    "id": "966923a0-c87b-4559-8fc1-3090d448ad4a"
   },
   "outputs": [
    {
     "name": "stdin",
     "output_type": "stream",
     "text": [
      "Masukkan total belanja: Rp  450000\n"
     ]
    },
    {
     "name": "stdout",
     "output_type": "stream",
     "text": [
      "Harga akhir setelah diskon: Rp 405000.00\n"
     ]
    }
   ],
   "source": [
    "# add code here\n",
    "\n",
    "# Fungsi untuk menghitung harga akhir setelah diskon\n",
    "def harga_akhir(total_belanja):\n",
    "    if total_belanja >= 500000:\n",
    "        diskon = 0.20  # Diskon 20%\n",
    "    elif total_belanja >= 250000:\n",
    "        diskon = 0.10  # Diskon 10%\n",
    "    else:\n",
    "        diskon = 0.00  # Tidak ada diskon\n",
    "    \n",
    "    # Menghitung harga setelah diskon\n",
    "    harga_setelah_diskon = total_belanja * (1 - diskon)\n",
    "    return harga_setelah_diskon\n",
    "\n",
    "# Meminta pengguna untuk memasukkan total belanja\n",
    "total_belanja = float(input(\"Masukkan total belanja: Rp \"))\n",
    "\n",
    "# Menghitung harga akhir setelah diskon\n",
    "harga_final = harga_akhir(total_belanja)\n",
    "\n",
    "# Menampilkan hasil\n",
    "print(f\"Harga akhir setelah diskon: Rp {harga_final:.2f}\")"
   ]
  },
  {
   "cell_type": "markdown",
   "id": "88e22629-48cc-4917-86e7-2bf4df863182",
   "metadata": {
    "id": "88e22629-48cc-4917-86e7-2bf4df863182"
   },
   "source": [
    "Program parkir:\n",
    "<ol>\n",
    "<li>Mobil: Rp 5.000 per jam</li>\n",
    "<li>Motor: Rp 2.000 per jam</li>\n",
    "<li>Jika parkir lebih dari 5 jam, ada biaya tambahan Rp 10.000</li>\n",
    "</ol>\n",
    "Hitung total biaya parkir berdasarkan jenis kendaraan dan durasi parkir."
   ]
  },
  {
   "cell_type": "code",
   "execution_count": 17,
   "id": "b8f7b918-70a1-4a88-945f-406c4aafbec7",
   "metadata": {
    "id": "b8f7b918-70a1-4a88-945f-406c4aafbec7"
   },
   "outputs": [
    {
     "name": "stdin",
     "output_type": "stream",
     "text": [
      "Masukkan jenis kendaraan (mobil/motor):  Mobil\n",
      "Masukkan durasi parkir (dalam jam):  5\n"
     ]
    },
    {
     "name": "stdout",
     "output_type": "stream",
     "text": [
      "Total biaya parkir untuk Mobil selama 5 jam adalah: Rp 25000.\n"
     ]
    }
   ],
   "source": [
    "# add code here\n",
    "\n",
    "# Fungsi untuk menghitung total biaya parkir\n",
    "def hitung_biaya_parkir(jenis_kendaraan, durasi_parkir):\n",
    "    if jenis_kendaraan.lower() == \"mobil\":\n",
    "        biaya_per_jam = 5000\n",
    "    elif jenis_kendaraan.lower() == \"motor\":\n",
    "        biaya_per_jam = 2000\n",
    "    else:\n",
    "        return None  # Jenis kendaraan tidak valid\n",
    "\n",
    "    # Menghitung biaya dasar\n",
    "    total_biaya = biaya_per_jam * durasi_parkir\n",
    "\n",
    "    # Menambahkan biaya tambahan jika parkir lebih dari 5 jam\n",
    "    if durasi_parkir > 5:\n",
    "        total_biaya += 10000\n",
    "\n",
    "    return total_biaya\n",
    "\n",
    "# Meminta pengguna untuk memasukkan jenis kendaraan dan durasi parkir\n",
    "jenis_kendaraan = input(\"Masukkan jenis kendaraan (mobil/motor): \")\n",
    "durasi_parkir = int(input(\"Masukkan durasi parkir (dalam jam): \"))\n",
    "\n",
    "# Menghitung total biaya parkir\n",
    "total_biaya = hitung_biaya_parkir(jenis_kendaraan, durasi_parkir)\n",
    "\n",
    "# Menampilkan hasil\n",
    "if total_biaya is not None:\n",
    "    print(f\"Total biaya parkir untuk {jenis_kendaraan} selama {durasi_parkir} jam adalah: Rp {total_biaya}.\")\n",
    "else:\n",
    "    print(\"Jenis kendaraan tidak valid. Silakan masukkan 'mobil' atau 'motor'.\")"
   ]
  },
  {
   "cell_type": "markdown",
   "id": "2db1d34c-3f80-4f8c-aaf2-910c38c05414",
   "metadata": {
    "id": "2db1d34c-3f80-4f8c-aaf2-910c38c05414"
   },
   "source": [
    "Aplikasi transportasi online memiliki tarif sebagai berikut:\n",
    "<ol>\n",
    "<li>Jika jarak ≤ 5 km → Rp 5.000/km</li>\n",
    "<li>Jika jarak 6-10 km → Rp 4.000/km</li>\n",
    "<li>Jika jarak > 10 km → Rp 3.000/km</li>\n",
    "</ol>\n",
    "Hitung tarif perjalanan berdasarkan jarak yang dimasukkan pengguna.\n"
   ]
  },
  {
   "cell_type": "code",
   "execution_count": 19,
   "id": "5a5b719e-76f6-4f45-a8e4-07853113ce9e",
   "metadata": {
    "id": "5a5b719e-76f6-4f45-a8e4-07853113ce9e"
   },
   "outputs": [
    {
     "name": "stdin",
     "output_type": "stream",
     "text": [
      "Masukkan jarak perjalanan (dalam km):  7\n"
     ]
    },
    {
     "name": "stdout",
     "output_type": "stream",
     "text": [
      "Tarif perjalanan untuk jarak 7.0 km adalah: Rp 28000.0.\n"
     ]
    }
   ],
   "source": [
    "# add code here\n",
    "\n",
    "# Fungsi untuk menghitung tarif perjalanan\n",
    "def hitung_tarif(jarak):\n",
    "    if jarak <= 5:\n",
    "        tarif_per_km = 5000  # Rp 5.000/km\n",
    "    elif 6 <= jarak <= 10:\n",
    "        tarif_per_km = 4000  # Rp 4.000/km\n",
    "    else:\n",
    "        tarif_per_km = 3000  # Rp 3.000/km\n",
    "\n",
    "    # Menghitung total tarif\n",
    "    total_tarif = tarif_per_km * jarak\n",
    "    return total_tarif\n",
    "\n",
    "# Meminta pengguna untuk memasukkan jarak perjalanan\n",
    "jarak = float(input(\"Masukkan jarak perjalanan (dalam km): \"))\n",
    "\n",
    "# Menghitung tarif perjalanan\n",
    "total_tarif = hitung_tarif(jarak)\n",
    "\n",
    "# Menampilkan hasil\n",
    "print(f\"Tarif perjalanan untuk jarak {jarak} km adalah: Rp {total_tarif}.\")"
   ]
  },
  {
   "cell_type": "markdown",
   "id": "d1cf7b61-e309-40ec-b1fd-4bc56550a10d",
   "metadata": {
    "id": "d1cf7b61-e309-40ec-b1fd-4bc56550a10d"
   },
   "source": [
    "Buatlah sebuah sistem penerimaan calon programmer yang akan menerima dua nilai ( nilai coding dan nilai interview). Untuk penilaian test coding skala penilaian yang diberikan dimulai dari 0 hingga 100 dengan sistem penilaian:\n",
    "<ol>\n",
    "<li>ketika seseorang mendapatkan nilai lebih dari 80 maka peserta tersebut akan mendapatkan hasil tes LOLOS</li>\n",
    "<li>ketika sesorang mendapatkan nilai diantara 60 hingga 80 maka peserta tersebut mendapatkan hasil tes DIPERTIMBANGKAN</li>\n",
    "<li>ketika seseorang mendapatkan nilai dibawah 60 maka peserta tersebut mendapatkan hasil tes GAGAL.</li>\n",
    "</ol>\n",
    "\n",
    "Sedangkan untuk penilaian interview adalah\n",
    "<ol>\n",
    "<li>ketika nilai yang diberikan kepada seseorang tersebut adalah \"A\" atau \"B\" maka peserta tersebut dianggap LOLOS interview</li>\n",
    "\n",
    "<li>selain kedua nilai tersebut maka peserta dianggap GAGAL tes interview.</li>\n",
    "</ol>\n",
    "\n",
    "Ketika calon programmer mendapatkan nilai coding LOLOS atau DIPERTIMBANGKAN dan juga LOLOS test interview maka tampilkanlah pesan \"Selamat Kamu Berhasil Menjadi Calon Programmer\". Jika tidak maka tampilkanlah pesan \"Maaf Kamu Belum Berhasil Menjadi Calon Programmer\""
   ]
  },
  {
   "cell_type": "code",
   "execution_count": 21,
   "id": "7aeb0f89-e957-4c0d-a29c-139fc269e1c0",
   "metadata": {
    "id": "7aeb0f89-e957-4c0d-a29c-139fc269e1c0"
   },
   "outputs": [
    {
     "name": "stdin",
     "output_type": "stream",
     "text": [
      "Masukkan nilai coding (0-100):  88\n",
      "Masukkan nilai interview (A/B):  A\n"
     ]
    },
    {
     "name": "stdout",
     "output_type": "stream",
     "text": [
      "Hasil tes coding: LOLOS\n",
      "Hasil tes interview: LOLOS\n",
      "Selamat Kamu Berhasil Menjadi Calon Programmer.\n"
     ]
    }
   ],
   "source": [
    "# add code here\n",
    "\n",
    "# Fungsi untuk menentukan hasil tes coding\n",
    "def hasil_coding(nilai_coding):\n",
    "    if nilai_coding > 80:\n",
    "        return \"LOLOS\"\n",
    "    elif 60 <= nilai_coding <= 80:\n",
    "        return \"DIPERTIMBANGKAN\"\n",
    "    else:\n",
    "        return \"GAGAL\"\n",
    "\n",
    "# Fungsi untuk menentukan hasil tes interview\n",
    "def hasil_interview(nilai_interview):\n",
    "    if nilai_interview in [\"A\", \"B\"]:\n",
    "        return \"LOLOS\"\n",
    "    else:\n",
    "        return \"GAGAL\"\n",
    "\n",
    "# Meminta pengguna untuk memasukkan nilai coding dan interview\n",
    "nilai_coding = float(input(\"Masukkan nilai coding (0-100): \"))\n",
    "nilai_interview = input(\"Masukkan nilai interview (A/B): \")\n",
    "\n",
    "# Menentukan hasil tes coding dan interview\n",
    "hasil_coding_test = hasil_coding(nilai_coding)\n",
    "hasil_interview_test = hasil_interview(nilai_interview)\n",
    "\n",
    "# Menampilkan hasil\n",
    "print(f\"Hasil tes coding: {hasil_coding_test}\")\n",
    "print(f\"Hasil tes interview: {hasil_interview_test}\")\n",
    "\n",
    "# Menentukan kelulusan sebagai calon programmer\n",
    "if (hasil_coding_test in [\"LOLOS\", \"DIPERTIMBANGKAN\"]) and (hasil_interview_test == \"LOLOS\"):\n",
    "    print(\"Selamat Kamu Berhasil Menjadi Calon Programmer.\")\n",
    "else:\n",
    "    print(\"Maaf Kamu Belum Berhasil Menjadi Calon Programmer.\")"
   ]
  },
  {
   "cell_type": "markdown",
   "id": "364647af-075b-4bc0-8c83-4c816415ff74",
   "metadata": {
    "id": "364647af-075b-4bc0-8c83-4c816415ff74"
   },
   "source": [
    "Sebuah klub sepak bola “PERSEGI FC” mempunyai aturan dalam memberikan nomor punggung bagi para pemainnya. Para pemain diperbolehkan mempunyai posisi lebih dari 1. Berikut adalah beberapa\n",
    "aturannya:\n",
    "<ol>\n",
    "<li>Untuk nomor punggung genap, digunakan untuk posisi “target attacker”</li>\n",
    "<li>Untuk nomor punggung genap antara 50 – 100, digunakan untuk pemain yang “berhak dipilih menjadi capten team”</li>\n",
    "<li>Untuk nomor punggung ganjil, digunakan untuk posisi “defender”</li>\n",
    "<li>Untuk nomor punggung ganjil lebih dari 90, digunakan untuk posisi “Playmaker”</li>\n",
    "<li>Untuk nomor punggung ganjil kelipatan dari 3 dan 5, digunakan untuk posisi “keeper”</li>\n",
    "</ol>\n",
    "Buatlah program untuk melakukan pengecekan sebuah nomor punggung dapat berfungsi sebagai posisi apa saja."
   ]
  },
  {
   "cell_type": "code",
   "execution_count": 23,
   "id": "2d1d5589-126b-44e3-9d9e-1bed865ff65c",
   "metadata": {
    "id": "2d1d5589-126b-44e3-9d9e-1bed865ff65c"
   },
   "outputs": [
    {
     "name": "stdin",
     "output_type": "stream",
     "text": [
      "Masukkan nomor punggung:  05\n"
     ]
    },
    {
     "name": "stdout",
     "output_type": "stream",
     "text": [
      "Nomor punggung 5 dapat digunakan untuk posisi: defender.\n"
     ]
    }
   ],
   "source": [
    "# add code here\n",
    "\n",
    "# Fungsi untuk menentukan posisi berdasarkan nomor punggung\n",
    "def posisi_pemain(nomor_punggung):\n",
    "    posisi = []\n",
    "\n",
    "    # Pengecekan untuk nomor punggung genap\n",
    "    if nomor_punggung % 2 == 0:\n",
    "        posisi.append(\"target attacker\")\n",
    "        if 50 <= nomor_punggung <= 100:\n",
    "            posisi.append(\"berhak dipilih menjadi captain team\")\n",
    "\n",
    "    # Pengecekan untuk nomor punggung ganjil\n",
    "    if nomor_punggung % 2 != 0:\n",
    "        posisi.append(\"defender\")\n",
    "        if nomor_punggung > 90:\n",
    "            posisi.append(\"Playmaker\")\n",
    "        if nomor_punggung % 3 == 0 and nomor_punggung % 5 == 0:\n",
    "            posisi.append(\"keeper\")\n",
    "\n",
    "    return posisi\n",
    "\n",
    "# Meminta pengguna untuk memasukkan nomor punggung\n",
    "nomor_punggung = int(input(\"Masukkan nomor punggung: \"))\n",
    "\n",
    "# Menentukan posisi pemain\n",
    "posisi = posisi_pemain(nomor_punggung)\n",
    "\n",
    "# Menampilkan hasil\n",
    "if posisi:\n",
    "    print(f\"Nomor punggung {nomor_punggung} dapat digunakan untuk posisi: {', '.join(posisi)}.\")\n",
    "else:\n",
    "    print(f\"Nomor punggung {nomor_punggung} tidak memenuhi syarat untuk posisi manapun.\")"
   ]
  },
  {
   "cell_type": "code",
   "execution_count": null,
   "id": "8d623b22-18dc-4d58-893f-a11ee76f0d6c",
   "metadata": {},
   "outputs": [],
   "source": []
  }
 ],
 "metadata": {
  "colab": {
   "provenance": []
  },
  "kernelspec": {
   "display_name": "Python [conda env:base] *",
   "language": "python",
   "name": "conda-base-py"
  },
  "language_info": {
   "codemirror_mode": {
    "name": "ipython",
    "version": 3
   },
   "file_extension": ".py",
   "mimetype": "text/x-python",
   "name": "python",
   "nbconvert_exporter": "python",
   "pygments_lexer": "ipython3",
   "version": "3.12.7"
  }
 },
 "nbformat": 4,
 "nbformat_minor": 5
}
