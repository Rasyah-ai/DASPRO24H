{
 "cells": [
  {
   "cell_type": "code",
   "execution_count": 3,
   "id": "b58855ba-5646-4d70-9016-b349f930bb47",
   "metadata": {},
   "outputs": [
    {
     "name": "stdout",
     "output_type": "stream",
     "text": [
      "     usia gender tingkat_pendidikan status_perkawinan\n",
      "0      46      L            Sarjana            Lajang\n",
      "1      47      L            Diploma            Lajang\n",
      "2      21      P            Sarjana           Menikah\n",
      "3      32      L       Pengangguran            Lajang\n",
      "4      31      P           Magister           Menikah\n",
      "..    ...    ...                ...               ...\n",
      "995    45      L           Magister           Menikah\n",
      "996    23      P            Sarjana             Cerai\n",
      "997    29      P           Magister             Cerai\n",
      "998    46      P            Diploma           Menikah\n",
      "999    35      L       Pengangguran             Cerai\n",
      "\n",
      "[1000 rows x 4 columns]\n",
      "<class 'pandas.core.frame.DataFrame'>\n",
      "RangeIndex: 1000 entries, 0 to 999\n",
      "Data columns (total 4 columns):\n",
      " #   Column              Non-Null Count  Dtype \n",
      "---  ------              --------------  ----- \n",
      " 0   usia                1000 non-null   int32 \n",
      " 1   gender              1000 non-null   object\n",
      " 2   tingkat_pendidikan  1000 non-null   object\n",
      " 3   status_perkawinan   1000 non-null   object\n",
      "dtypes: int32(1), object(3)\n",
      "memory usage: 27.5+ KB\n",
      "None\n",
      "   usia gender tingkat_pendidikan status_perkawinan\n",
      "0    46      L            Sarjana            Lajang\n",
      "1    47      L            Diploma            Lajang\n",
      "2    21      P            Sarjana           Menikah\n",
      "3    32      L       Pengangguran            Lajang\n",
      "4    31      P           Magister           Menikah\n",
      "Usia termuda:21\n",
      "Usia tertua:54\n",
      "Jumlah Laki laki:498.0\n",
      "Jumlah Laki laki:498\n"
     ]
    }
   ],
   "source": [
    "import numpy as np\n",
    "import pandas as pd\n",
    "jmlData = 1000\n",
    "\n",
    "usia = np.random.randint(21,55,size=jmlData)\n",
    "gender = np.random.choice(['L','P'],size=jmlData)\n",
    "tingkat_pendidikan = np.random.choice(['Pengangguran', 'Diploma', 'Sarjana', 'Magister'], size=jmlData)\n",
    "status_perkawinan = np.random.choice(['Lajang', 'Menikah', 'Cerai'], size=jmlData)\n",
    "\n",
    "df = pd.DataFrame({\n",
    "    'usia' : usia,\n",
    "    'gender' : gender,\n",
    "    'tingkat_pendidikan' : tingkat_pendidikan,\n",
    "    'status_perkawinan' : status_perkawinan\n",
    "})\n",
    "\n",
    "print(df)\n",
    "print(df.info()) #Menampilkan karakteristik data\n",
    "print(df.head()) #menampilkan isi tabek 5 baris pertama\n",
    "print(f\"Usia termuda:{df['usia'].min()}\")\n",
    "print(f\"Usia tertua:{df['usia'].max()}\")\n",
    "jmlL = df[df['gender']=='L']\n",
    "print(f\"Jumlah Laki laki:{jmlL.size/4}\")\n",
    "print(f\"Jumlah Laki laki:{jmlL['gender'].size}\")\n",
    "df.to_csv(\"dataCustomer.csv\")"
   ]
  },
  {
   "cell_type": "code",
   "execution_count": null,
   "id": "73941615-a241-4e2d-83be-06b056198191",
   "metadata": {},
   "outputs": [],
   "source": []
  }
 ],
 "metadata": {
  "kernelspec": {
   "display_name": "Python [conda env:base] *",
   "language": "python",
   "name": "conda-base-py"
  },
  "language_info": {
   "codemirror_mode": {
    "name": "ipython",
    "version": 3
   },
   "file_extension": ".py",
   "mimetype": "text/x-python",
   "name": "python",
   "nbconvert_exporter": "python",
   "pygments_lexer": "ipython3",
   "version": "3.12.7"
  }
 },
 "nbformat": 4,
 "nbformat_minor": 5
}
