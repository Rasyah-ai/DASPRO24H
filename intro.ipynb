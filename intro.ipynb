{
 "cells": [
  {
   "cell_type": "markdown",
   "id": "b112b479",
   "metadata": {},
   "source": [
    "<img src=\"https://encrypted-tbn0.gstatic.com/images?q=tbn:ANd9GcQUp1FzH3nc2OXl-BQZqURoJ9bubzCoWIjlBA&s\" width=\"500\" >\n",
    "</enter><br> Pada jupyter notebooks jenis <b>cell</b> terbagi menjadi\n",
    "<ol>\n",
    "    <li>M (Mark Down) -> M</li>\n",
    "    <li>Y (Code) -> Y</li>\n",
    "</ol>\n",
    "<hr>"
   ]
  },
  {
   "cell_type": "markdown",
   "id": "37c8ec80",
   "metadata": {},
   "source": [
    "Cara menambahkan <b>cell</b> terbagi menjadi 2:\n",
    "<ul>\n",
    "    <li>A - (Above) Menambah diatas cell aktif</li>\n",
    "    <li>B - (Below) Menambah dibawah cell aktif</li>\n",
    "</ul>"
   ]
  },
  {
   "cell_type": "markdown",
   "id": "928cb801",
   "metadata": {},
   "source": [
    "<table>\n",
    "    <tr>\n",
    "        <td>Perintah</td>\n",
    "        <td>Keterangan</td>\n",
    "    </tr>\n",
    "    <tr>\n",
    "        <td>Ctrl + Enter</td>\n",
    "        <td>Running progran dengan fokus di cell aktif</td>\n",
    "    </tr>\n",
    "    <tr>\n",
    "        <td>Shift + Enter</td>\n",
    "        <td>Running progran dengan fokus di cell berikutnya</td>\n",
    "    </tr>\n",
    "    \n",
    "</table>"
   ]
  },
  {
   "cell_type": "code",
   "execution_count": 5,
   "id": "466fc96f",
   "metadata": {},
   "outputs": [
    {
     "name": "stdout",
     "output_type": "stream",
     "text": [
      "Python is very easy\n",
      "5\n"
     ]
    },
    {
     "data": {
      "text/plain": [
       "10"
      ]
     },
     "execution_count": 5,
     "metadata": {},
     "output_type": "execute_result"
    }
   ],
   "source": [
    "#this is comment\n",
    "print(\"Python is very easy\")\n",
    "data = \"5\"\n",
    "print(data)\n",
    "data\n",
    "5+5"
   ]
  },
  {
   "cell_type": "code",
   "execution_count": 28,
   "id": "53640fca",
   "metadata": {},
   "outputs": [
    {
     "name": "stdout",
     "output_type": "stream",
     "text": [
      "Nama : Rasyah\n",
      "Alamat : ('Jln. Mufakat', '531111')\n",
      "Umur : 18\n",
      "Nilai program : 88.9\n",
      "Status Menikah : False\n",
      "Propinsi : 12928129883\n"
     ]
    }
   ],
   "source": [
    "name = \"Rasyah\"\n",
    "address = \"Jln. Mufakat\",\"531111\"\n",
    "age = 18\n",
    "scorePython = 88.9\n",
    "isMarried = False\n",
    "province = \"12928129883\"\n",
    "\n",
    "print(\"Nama :\",name)\n",
    "print(\"Alamat :\",address)\n",
    "print(\"Umur :\",age)\n",
    "print(\"Nilai program :\",scorePython)\n",
    "print(\"Status Menikah :\",isMarried)\n",
    "print(\"Propinsi :\",provinces)"
   ]
  },
  {
   "cell_type": "code",
   "execution_count": 36,
   "id": "ac1e83db",
   "metadata": {},
   "outputs": [
    {
     "name": "stdout",
     "output_type": "stream",
     "text": [
      "Tipe data <Name> <class 'str'>\n",
      "Tipe data <address> <class 'tuple'>\n",
      "Tipe data <age> <class 'int'>\n",
      "Tipe data <scorePython> <class 'float'>\n",
      "Tipe data <isMarried> <class 'bool'>\n"
     ]
    }
   ],
   "source": [
    "print(\"Tipe data <Name>\",type(name))\n",
    "print(\"Tipe data <address>\",type(address))\n",
    "print(\"Tipe data <age>\",type(age))\n",
    "print(\"Tipe data <scorePython>\",type(scorePython))\n",
    "print(\"Tipe data <isMarried>\",type(isMarried))"
   ]
  },
  {
   "cell_type": "code",
   "execution_count": 30,
   "id": "ad0164d5",
   "metadata": {},
   "outputs": [],
   "source": [
    "#Casting / KOnversi Tipe Data\n",
    "#1. String ke (int,float,boolean)\n",
    "strToInt = int(province)\n",
    "strToFloat = float(province)\n",
    "strToBool = bool(province)\n",
    "\n",
    "#2. int ke (str,boolean,fload)\n",
    "intToStr = str(age)\n",
    "intToBool = bool(age)\n",
    "intToFloat = float(age)\n",
    "\n",
    "#3. Float ke (int,str,boolean)\n",
    "floatToInt = int(scorePython)\n",
    "floatToStr = str(scorePython)\n",
    "floatToBool = bool(scorePython)\n",
    "\n",
    "#4. boolean ke (int,str,fload)\n",
    "BooleanToInt = int(isMarried)\n",
    "BooleanToStr = str(isMarried)\n",
    "BooleanToFload = float(isMarried)"
   ]
  },
  {
   "cell_type": "code",
   "execution_count": 31,
   "id": "7d2141be",
   "metadata": {},
   "outputs": [
    {
     "name": "stdout",
     "output_type": "stream",
     "text": [
      "Nilai desimal : 500\n",
      "Nilai biner : 10\n",
      "Nilai octal : 255\n",
      "Nilai hexa : 221\n",
      "Nilai biner dari  500 : 0b111110100\n",
      "Nilai octal dari  500 : 0o764\n",
      "Nilai hexa dari  500 : 0x1f4\n"
     ]
    }
   ],
   "source": [
    "#Tipe data basis bilangan (desimal,biner,octal,hexa)\n",
    "\n",
    "desimal = 500\n",
    "biner = 0b1010 #10\n",
    "octal = 0o377 #255\n",
    "hexa = 0xdd #255\n",
    "\n",
    "print(\"Nilai desimal :\",desimal)\n",
    "print(\"Nilai biner :\",biner)\n",
    "print(\"Nilai octal :\",octal)\n",
    "print(\"Nilai hexa :\",hexa)\n",
    "\n",
    "print(\"Nilai biner dari \",desimal, \":\",bin(desimal))\n",
    "print(\"Nilai octal dari \",desimal, \":\",oct(desimal))\n",
    "print(\"Nilai hexa dari \",desimal, \":\",hex(desimal))"
   ]
  },
  {
   "cell_type": "code",
   "execution_count": 34,
   "id": "45383f0f",
   "metadata": {},
   "outputs": [
    {
     "name": "stdout",
     "output_type": "stream",
     "text": [
      "M\n",
      "6\n",
      "U\n"
     ]
    }
   ],
   "source": [
    "city = \"MALUKU\"\n",
    "length = len(city)\n",
    "print(city[0])\n",
    "print(length)\n",
    "print(city[length-1])"
   ]
  },
  {
   "cell_type": "code",
   "execution_count": 44,
   "id": "dc38215c",
   "metadata": {},
   "outputs": [
    {
     "name": "stdout",
     "output_type": "stream",
     "text": [
      "['Bandung', 'Sukabumi', 'Bogor', 'Jakarta']\n",
      "Bandung\n",
      "Jakarta\n",
      "J\n",
      "a\n",
      "['Bali', 'Sukabumi', 'Bogor', 'Jakarta']\n",
      "('Muhammad', 'Rasyah', 'Aditya')\n",
      "Muhammad\n",
      "{'name': 'Fajar', 'age': 29, 'address': {'street': 'Parung', 'number': 24, 'province': 'jawa barat'}, 'isMarried': True, 'Hobbies': ['Berenang', 'FootBall']}\n",
      "29\n",
      "jawa barat\n",
      "FootBall\n",
      "jawa barat\n"
     ]
    }
   ],
   "source": [
    "#Tipe data Collection\n",
    "cities = [\"Bandung\",\"Sukabumi\",\"Bogor\",\"Jakarta\"]\n",
    "lengthCities = len(cities)\n",
    "print(cities)\n",
    "print(cities[0])\n",
    "print(cities[lengthCities-1])\n",
    "print(cities[lengthCities-1][0])\n",
    "print(cities[lengthCities-1][len(cities[lengthCities-1])-1])\n",
    "cities[0] = \"Bali\"\n",
    "#cities[5] = \"Malang\" Akan menyebabkan error out of range\n",
    "print(cities)\n",
    "\n",
    "names = (\"Muhammad\",\"Rasyah\",\"Aditya\")\n",
    "print(names)\n",
    "print(names[0])\n",
    "#names[0] = \"andi\" error immutable tuple\n",
    "\n",
    "studentData = {\n",
    "    \"name\" : \"Fajar\",\n",
    "    \"age\" : 29,\n",
    "    \"address\" : {\n",
    "        \"street\" : \"Parung\",\n",
    "        \"number\" : 24,\n",
    "        \"province\" : \"jawa barat\"\n",
    "    },\n",
    "    \"isMarried\" : True,\n",
    "    \"Hobbies\" : [\"Berenang\", \"FootBall\"]\n",
    "}\n",
    "\n",
    "print(studentData)\n",
    "print(studentData[\"age\"])\n",
    "print(studentData[\"address\"][\"province\"])\n",
    "print(studentData[\"Hobbies\"][1])\n",
    "\n",
    "studentlist = [\n",
    "     {\n",
    "        \"name\" : \"Fajar\",\n",
    "        \"age\" : 29,\n",
    "        \"address\" : {\n",
    "            \"street\" : \"Parung\",\n",
    "            \"number\" : 24,\n",
    "            \"province\" : \"jawa barat\"\n",
    "        },\n",
    "        \"isMarried\" : True,\n",
    "        \"Hobbies\" : [\"Berenang\", \"FootBall\"]\n",
    "     },\n",
    "     {\n",
    "        \"name\" : \"Rasford\",\n",
    "        \"age\" : 19,\n",
    "        \"address\" : {\n",
    "            \"street\" : \"Jerman\",\n",
    "            \"number\" : 5,\n",
    "            \"province\" : \"jawa barat\"\n",
    "        },\n",
    "        \"isMarried\" : True,\n",
    "        \"Hobbies\" : [\"Berenang\", \"FootBall\"]\n",
    "    } \n",
    "]\n",
    "\n",
    "print(studentlist[1][\"address\"][\"province\"])"
   ]
  },
  {
   "cell_type": "code",
   "execution_count": null,
   "id": "5426f791",
   "metadata": {},
   "outputs": [],
   "source": [
    "#Konversi dictionery\n",
    "\n",
    "list_list = [[\"Name\",\"Rasyah\"],[\"age\",18],[\"Status\",True]]\n",
    "diclistStudent = dict(list_list)\n",
    "print(diclistStudent)\n",
    "\n",
    "list_tuple = [(\"Name\",\"Rasford\"),(\"Address\",\"Barcelona\")]\n",
    "dictupleStudent = dict(tuple_list)\n",
    "print(dictupleStudent)\n",
    "\n"
   ]
  }
 ],
 "metadata": {
  "kernelspec": {
   "display_name": "Python 3 (ipykernel)",
   "language": "python",
   "name": "python3"
  },
  "language_info": {
   "codemirror_mode": {
    "name": "ipython",
    "version": 3
   },
   "file_extension": ".py",
   "mimetype": "text/x-python",
   "name": "python",
   "nbconvert_exporter": "python",
   "pygments_lexer": "ipython3",
   "version": "3.9.12"
  }
 },
 "nbformat": 4,
 "nbformat_minor": 5
}
